{
 "cells": [
  {
   "cell_type": "code",
   "execution_count": 1,
   "id": "5061c02c",
   "metadata": {},
   "outputs": [],
   "source": [
    "from protopunica import *\n",
    "import numpy as np"
   ]
  },
  {
   "cell_type": "code",
   "execution_count": 27,
   "id": "49f30c2a",
   "metadata": {},
   "outputs": [],
   "source": [
    "start = DiscreteDistribution({\"PIZZA\":1,\"VEGGIE\":0})"
   ]
  },
  {
   "cell_type": "code",
   "execution_count": 28,
   "id": "2737de37",
   "metadata": {},
   "outputs": [],
   "source": [
    "transition_matrix= ConditionalProbabilityTable([\n",
    "    [\"PIZZA\",\"PIZZA\",0.75],\n",
    "    [\"PIZZA\",\"VEGGIE\",0.25],\n",
    "    [\"VEGGIE\",\"VEGGIE\",0.6],\n",
    "    [\"VEGGIE\",\"PIZZA\",0.4],\n",
    "],[start])"
   ]
  },
  {
   "cell_type": "code",
   "execution_count": 29,
   "id": "5a49b847",
   "metadata": {},
   "outputs": [],
   "source": [
    "model=MarkovChain([start,transition_matrix])"
   ]
  },
  {
   "cell_type": "code",
   "execution_count": 30,
   "id": "317087af",
   "metadata": {},
   "outputs": [],
   "source": [
    "random_samples=model.sample(2)"
   ]
  },
  {
   "cell_type": "code",
   "execution_count": 35,
   "id": "d9d8c2a7",
   "metadata": {},
   "outputs": [
    {
     "name": "stdout",
     "output_type": "stream",
     "text": [
      "['PIZZA', 'PIZZA']\n"
     ]
    }
   ],
   "source": [
    "print(random_samples)\n"
   ]
  },
  {
   "cell_type": "code",
   "execution_count": 36,
   "id": "3c326991",
   "metadata": {},
   "outputs": [],
   "source": [
    "log_probability=model.log_probability(random_samples)"
   ]
  },
  {
   "cell_type": "code",
   "execution_count": 37,
   "id": "f3371fba",
   "metadata": {},
   "outputs": [],
   "source": [
    "probability_of_Occurance = np.exp(log_probability)"
   ]
  },
  {
   "cell_type": "code",
   "execution_count": 38,
   "id": "a0b9375d",
   "metadata": {},
   "outputs": [
    {
     "data": {
      "text/plain": [
       "0.75"
      ]
     },
     "execution_count": 38,
     "metadata": {},
     "output_type": "execute_result"
    }
   ],
   "source": [
    "probability_of_Occurance"
   ]
  },
  {
   "cell_type": "code",
   "execution_count": 43,
   "id": "758e903c",
   "metadata": {},
   "outputs": [],
   "source": [
    "log_probability_food_sequence= model.log_probability([\"PIZZA\",\"VEGGIE\",\"VEGGIE\"])"
   ]
  },
  {
   "cell_type": "code",
   "execution_count": 44,
   "id": "b4a4ab89",
   "metadata": {},
   "outputs": [],
   "source": [
    "probability_of_food= np.exp(log_probability_food_sequence)"
   ]
  },
  {
   "cell_type": "code",
   "execution_count": 45,
   "id": "ba5d95e4",
   "metadata": {},
   "outputs": [
    {
     "name": "stdout",
     "output_type": "stream",
     "text": [
      "0.15\n"
     ]
    }
   ],
   "source": [
    "print(probability_of_food)"
   ]
  },
  {
   "cell_type": "code",
   "execution_count": null,
   "id": "8c6f7d08",
   "metadata": {},
   "outputs": [],
   "source": []
  }
 ],
 "metadata": {
  "kernelspec": {
   "display_name": "Python 3 (ipykernel)",
   "language": "python",
   "name": "python3"
  },
  "language_info": {
   "codemirror_mode": {
    "name": "ipython",
    "version": 3
   },
   "file_extension": ".py",
   "mimetype": "text/x-python",
   "name": "python",
   "nbconvert_exporter": "python",
   "pygments_lexer": "ipython3",
   "version": "3.9.13"
  }
 },
 "nbformat": 4,
 "nbformat_minor": 5
}
