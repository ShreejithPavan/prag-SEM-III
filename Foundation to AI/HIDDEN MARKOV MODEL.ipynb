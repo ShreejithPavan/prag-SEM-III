{
 "cells": [
  {
   "cell_type": "markdown",
   "id": "ccbb3dba",
   "metadata": {},
   "source": [
    "  # Importing Libraries"
   ]
  },
  {
   "cell_type": "code",
   "execution_count": 1,
   "id": "daacdffc",
   "metadata": {},
   "outputs": [],
   "source": [
    "from protopunica import *"
   ]
  },
  {
   "cell_type": "code",
   "execution_count": 2,
   "id": "e0df4146",
   "metadata": {},
   "outputs": [],
   "source": [
    "import pandas as pd"
   ]
  },
  {
   "cell_type": "markdown",
   "id": "abf4272e",
   "metadata": {},
   "source": [
    "# Observation Model"
   ]
  },
  {
   "cell_type": "code",
   "execution_count": 3,
   "id": "6e3dec8a",
   "metadata": {},
   "outputs": [],
   "source": [
    "sunny= DiscreteDistribution({\n",
    "    \"raincoat\": 0.1,\n",
    "    \"Hat\": 0.9\n",
    "})\n",
    "\n",
    "rainy= DiscreteDistribution({\n",
    "    \"raincoat\": 0.7,\n",
    "    \"Hat\": 0.3\n",
    "})"
   ]
  },
  {
   "cell_type": "markdown",
   "id": "f4ceb814",
   "metadata": {},
   "source": [
    "# Define States"
   ]
  },
  {
   "cell_type": "code",
   "execution_count": 4,
   "id": "ae5e6c92",
   "metadata": {},
   "outputs": [],
   "source": [
    "states=[sunny,rainy]"
   ]
  },
  {
   "cell_type": "markdown",
   "id": "cffc643e",
   "metadata": {},
   "source": [
    "# Transition Model"
   ]
  },
  {
   "cell_type": "code",
   "execution_count": 5,
   "id": "beab6fe1",
   "metadata": {},
   "outputs": [],
   "source": [
    "transition_model= numpy.array(\n",
    "[[0.7,0.3],\n",
    "[0.4,0.6]])"
   ]
  },
  {
   "cell_type": "markdown",
   "id": "fc621027",
   "metadata": {},
   "source": [
    "# Initial State"
   ]
  },
  {
   "cell_type": "code",
   "execution_count": 6,
   "id": "d4965090",
   "metadata": {},
   "outputs": [],
   "source": [
    "Initial_state= numpy.array([0.3,0.7])"
   ]
  },
  {
   "cell_type": "markdown",
   "id": "18a32dd8",
   "metadata": {},
   "source": [
    "# Build the Model"
   ]
  },
  {
   "cell_type": "code",
   "execution_count": 7,
   "id": "63d61f07",
   "metadata": {},
   "outputs": [],
   "source": [
    "model= HiddenMarkovModel.from_matrix(\n",
    "transition_model,states,Initial_state,state_names=[\"sunny\",\"rainy\"])"
   ]
  },
  {
   "cell_type": "markdown",
   "id": "0896304a",
   "metadata": {},
   "source": [
    "# Bake the model"
   ]
  },
  {
   "cell_type": "code",
   "execution_count": 8,
   "id": "d59e15c8",
   "metadata": {},
   "outputs": [],
   "source": [
    "model.bake()"
   ]
  },
  {
   "cell_type": "markdown",
   "id": "e7ce0b52",
   "metadata": {},
   "source": [
    "# Observations"
   ]
  },
  {
   "cell_type": "code",
   "execution_count": 9,
   "id": "de82a87f",
   "metadata": {},
   "outputs": [],
   "source": [
    "observations=[\n",
    "    \"Hat\",\n",
    "    \"Hat\",\n",
    "    \"raincoat\",\n",
    "    \"raincoat\",\n",
    "    \"Hat\",\n",
    "    \"Hat\",\n",
    "    \"raincoat\",\n",
    "    \"Hat\",\n",
    "    \"Hat\"\n",
    "]"
   ]
  },
  {
   "cell_type": "markdown",
   "id": "a7df5288",
   "metadata": {},
   "source": [
    "# Predict the state for the given observations"
   ]
  },
  {
   "cell_type": "code",
   "execution_count": 10,
   "id": "9f8064b3",
   "metadata": {},
   "outputs": [],
   "source": [
    "predictions= model.predict(observations)"
   ]
  },
  {
   "cell_type": "code",
   "execution_count": 11,
   "id": "e2a1c82b",
   "metadata": {},
   "outputs": [
    {
     "data": {
      "text/plain": [
       "[1, 1, 0, 0, 1, 1, 0, 1, 1]"
      ]
     },
     "execution_count": 11,
     "metadata": {},
     "output_type": "execute_result"
    }
   ],
   "source": [
    "predictions"
   ]
  },
  {
   "cell_type": "markdown",
   "id": "0c3553be",
   "metadata": {},
   "source": [
    "# Model"
   ]
  },
  {
   "cell_type": "code",
   "execution_count": 12,
   "id": "6c81e13c",
   "metadata": {},
   "outputs": [
    {
     "data": {
      "text/plain": [
       "{\n",
       "    \"class\" : \"HiddenMarkovModel\",\n",
       "    \"name\" : \"None\",\n",
       "    \"start\" : {\n",
       "        \"class\" : \"State\",\n",
       "        \"distribution\" : null,\n",
       "        \"name\" : \"None-start\",\n",
       "        \"weight\" : 1.0\n",
       "    },\n",
       "    \"end\" : {\n",
       "        \"class\" : \"State\",\n",
       "        \"distribution\" : null,\n",
       "        \"name\" : \"None-end\",\n",
       "        \"weight\" : 1.0\n",
       "    },\n",
       "    \"states\" : [\n",
       "        {\n",
       "            \"class\" : \"State\",\n",
       "            \"distribution\" : {\n",
       "                \"class\" : \"Distribution\",\n",
       "                \"dtype\" : \"str\",\n",
       "                \"name\" : \"DiscreteDistribution\",\n",
       "                \"parameters\" : [\n",
       "                    {\n",
       "                        \"raincoat\" : 0.7,\n",
       "                        \"Hat\" : 0.3\n",
       "                    }\n",
       "                ],\n",
       "                \"frozen\" : false\n",
       "            },\n",
       "            \"name\" : \"rainy\",\n",
       "            \"weight\" : 1.0\n",
       "        },\n",
       "        {\n",
       "            \"class\" : \"State\",\n",
       "            \"distribution\" : {\n",
       "                \"class\" : \"Distribution\",\n",
       "                \"dtype\" : \"str\",\n",
       "                \"name\" : \"DiscreteDistribution\",\n",
       "                \"parameters\" : [\n",
       "                    {\n",
       "                        \"raincoat\" : 0.1,\n",
       "                        \"Hat\" : 0.9\n",
       "                    }\n",
       "                ],\n",
       "                \"frozen\" : false\n",
       "            },\n",
       "            \"name\" : \"sunny\",\n",
       "            \"weight\" : 1.0\n",
       "        },\n",
       "        {\n",
       "            \"class\" : \"State\",\n",
       "            \"distribution\" : null,\n",
       "            \"name\" : \"None-start\",\n",
       "            \"weight\" : 1.0\n",
       "        },\n",
       "        {\n",
       "            \"class\" : \"State\",\n",
       "            \"distribution\" : null,\n",
       "            \"name\" : \"None-end\",\n",
       "            \"weight\" : 1.0\n",
       "        }\n",
       "    ],\n",
       "    \"end_index\" : 3,\n",
       "    \"start_index\" : 2,\n",
       "    \"silent_index\" : 2,\n",
       "    \"edges\" : [\n",
       "        [\n",
       "            2,\n",
       "            1,\n",
       "            0.3,\n",
       "            0.3,\n",
       "            null\n",
       "        ],\n",
       "        [\n",
       "            2,\n",
       "            0,\n",
       "            0.7,\n",
       "            0.7,\n",
       "            null\n",
       "        ],\n",
       "        [\n",
       "            1,\n",
       "            1,\n",
       "            0.7,\n",
       "            0.7,\n",
       "            null\n",
       "        ],\n",
       "        [\n",
       "            1,\n",
       "            0,\n",
       "            0.3,\n",
       "            0.3,\n",
       "            null\n",
       "        ],\n",
       "        [\n",
       "            0,\n",
       "            1,\n",
       "            0.4,\n",
       "            0.4,\n",
       "            null\n",
       "        ],\n",
       "        [\n",
       "            0,\n",
       "            0,\n",
       "            0.6,\n",
       "            0.6,\n",
       "            null\n",
       "        ]\n",
       "    ],\n",
       "    \"distribution ties\" : []\n",
       "}"
      ]
     },
     "execution_count": 12,
     "metadata": {},
     "output_type": "execute_result"
    }
   ],
   "source": [
    "model"
   ]
  },
  {
   "cell_type": "code",
   "execution_count": 13,
   "id": "0460b148",
   "metadata": {},
   "outputs": [
    {
     "name": "stdout",
     "output_type": "stream",
     "text": [
      "sunny\n",
      "sunny\n",
      "rainy\n",
      "rainy\n",
      "sunny\n",
      "sunny\n",
      "rainy\n",
      "sunny\n",
      "sunny\n"
     ]
    }
   ],
   "source": [
    "for prediction in predictions:\n",
    "    print(model.states[prediction].name)"
   ]
  },
  {
   "cell_type": "code",
   "execution_count": 14,
   "id": "ec911829",
   "metadata": {},
   "outputs": [],
   "source": [
    "predicted_probabilities = model.predict_proba(observations)"
   ]
  },
  {
   "cell_type": "code",
   "execution_count": 15,
   "id": "e4ccbf8c",
   "metadata": {},
   "outputs": [],
   "source": [
    "Most_likely_Weather = pd.DataFrame(predicted_probabilities,columns =[\"sunny\",\"rainy\"])"
   ]
  },
  {
   "cell_type": "code",
   "execution_count": 16,
   "id": "5b68cfbb",
   "metadata": {},
   "outputs": [
    {
     "data": {
      "text/html": [
       "<div>\n",
       "<style scoped>\n",
       "    .dataframe tbody tr th:only-of-type {\n",
       "        vertical-align: middle;\n",
       "    }\n",
       "\n",
       "    .dataframe tbody tr th {\n",
       "        vertical-align: top;\n",
       "    }\n",
       "\n",
       "    .dataframe thead th {\n",
       "        text-align: right;\n",
       "    }\n",
       "</style>\n",
       "<table border=\"1\" class=\"dataframe\">\n",
       "  <thead>\n",
       "    <tr style=\"text-align: right;\">\n",
       "      <th></th>\n",
       "      <th>sunny</th>\n",
       "      <th>rainy</th>\n",
       "    </tr>\n",
       "  </thead>\n",
       "  <tbody>\n",
       "    <tr>\n",
       "      <th>0</th>\n",
       "      <td>0.399892</td>\n",
       "      <td>0.600108</td>\n",
       "    </tr>\n",
       "    <tr>\n",
       "      <th>1</th>\n",
       "      <td>0.306306</td>\n",
       "      <td>0.693694</td>\n",
       "    </tr>\n",
       "    <tr>\n",
       "      <th>2</th>\n",
       "      <td>0.859424</td>\n",
       "      <td>0.140576</td>\n",
       "    </tr>\n",
       "    <tr>\n",
       "      <th>3</th>\n",
       "      <td>0.855572</td>\n",
       "      <td>0.144428</td>\n",
       "    </tr>\n",
       "    <tr>\n",
       "      <th>4</th>\n",
       "      <td>0.266125</td>\n",
       "      <td>0.733875</td>\n",
       "    </tr>\n",
       "    <tr>\n",
       "      <th>5</th>\n",
       "      <td>0.248499</td>\n",
       "      <td>0.751501</td>\n",
       "    </tr>\n",
       "    <tr>\n",
       "      <th>6</th>\n",
       "      <td>0.730427</td>\n",
       "      <td>0.269573</td>\n",
       "    </tr>\n",
       "    <tr>\n",
       "      <th>7</th>\n",
       "      <td>0.225295</td>\n",
       "      <td>0.774705</td>\n",
       "    </tr>\n",
       "    <tr>\n",
       "      <th>8</th>\n",
       "      <td>0.171936</td>\n",
       "      <td>0.828064</td>\n",
       "    </tr>\n",
       "  </tbody>\n",
       "</table>\n",
       "</div>"
      ],
      "text/plain": [
       "      sunny     rainy\n",
       "0  0.399892  0.600108\n",
       "1  0.306306  0.693694\n",
       "2  0.859424  0.140576\n",
       "3  0.855572  0.144428\n",
       "4  0.266125  0.733875\n",
       "5  0.248499  0.751501\n",
       "6  0.730427  0.269573\n",
       "7  0.225295  0.774705\n",
       "8  0.171936  0.828064"
      ]
     },
     "execution_count": 16,
     "metadata": {},
     "output_type": "execute_result"
    }
   ],
   "source": [
    "Most_likely_Weather"
   ]
  },
  {
   "cell_type": "code",
   "execution_count": null,
   "id": "07f9b8e8",
   "metadata": {},
   "outputs": [],
   "source": []
  }
 ],
 "metadata": {
  "kernelspec": {
   "display_name": "Python 3 (ipykernel)",
   "language": "python",
   "name": "python3"
  },
  "language_info": {
   "codemirror_mode": {
    "name": "ipython",
    "version": 3
   },
   "file_extension": ".py",
   "mimetype": "text/x-python",
   "name": "python",
   "nbconvert_exporter": "python",
   "pygments_lexer": "ipython3",
   "version": "3.9.13"
  }
 },
 "nbformat": 4,
 "nbformat_minor": 5
}
